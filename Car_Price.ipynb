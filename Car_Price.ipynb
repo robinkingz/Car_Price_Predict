{
 "cells": [
  {
   "cell_type": "code",
   "execution_count": 32,
   "id": "944af010",
   "metadata": {},
   "outputs": [
    {
     "name": "stdout",
     "output_type": "stream",
     "text": [
      "Collecting statsmodels\n",
      "  Downloading statsmodels-0.13.2-cp38-cp38-win_amd64.whl (9.1 MB)\n",
      "     ---------------------------------------- 9.1/9.1 MB 3.1 MB/s eta 0:00:00\n",
      "Requirement already satisfied: scipy>=1.3 in c:\\users\\zhangl6\\appdata\\local\\packages\\pythonsoftwarefoundation.python.3.8_qbz5n2kfra8p0\\localcache\\local-packages\\python38\\site-packages (from statsmodels) (1.8.1)\n",
      "Collecting patsy>=0.5.2\n",
      "  Downloading patsy-0.5.2-py2.py3-none-any.whl (233 kB)\n",
      "     -------------------------------------- 233.7/233.7 kB 2.9 MB/s eta 0:00:00\n",
      "Requirement already satisfied: pandas>=0.25 in c:\\users\\zhangl6\\appdata\\local\\packages\\pythonsoftwarefoundation.python.3.8_qbz5n2kfra8p0\\localcache\\local-packages\\python38\\site-packages (from statsmodels) (1.4.3)\n",
      "Requirement already satisfied: packaging>=21.3 in c:\\users\\zhangl6\\appdata\\local\\packages\\pythonsoftwarefoundation.python.3.8_qbz5n2kfra8p0\\localcache\\local-packages\\python38\\site-packages (from statsmodels) (21.3)\n",
      "Requirement already satisfied: numpy>=1.17 in c:\\users\\zhangl6\\appdata\\local\\packages\\pythonsoftwarefoundation.python.3.8_qbz5n2kfra8p0\\localcache\\local-packages\\python38\\site-packages (from statsmodels) (1.23.1)\n",
      "Requirement already satisfied: pyparsing!=3.0.5,>=2.0.2 in c:\\users\\zhangl6\\appdata\\local\\packages\\pythonsoftwarefoundation.python.3.8_qbz5n2kfra8p0\\localcache\\local-packages\\python38\\site-packages (from packaging>=21.3->statsmodels) (3.0.9)\n",
      "Requirement already satisfied: python-dateutil>=2.8.1 in c:\\users\\zhangl6\\appdata\\local\\packages\\pythonsoftwarefoundation.python.3.8_qbz5n2kfra8p0\\localcache\\local-packages\\python38\\site-packages (from pandas>=0.25->statsmodels) (2.8.2)\n",
      "Requirement already satisfied: pytz>=2020.1 in c:\\users\\zhangl6\\appdata\\local\\packages\\pythonsoftwarefoundation.python.3.8_qbz5n2kfra8p0\\localcache\\local-packages\\python38\\site-packages (from pandas>=0.25->statsmodels) (2022.1)\n",
      "Requirement already satisfied: six in c:\\users\\zhangl6\\appdata\\local\\packages\\pythonsoftwarefoundation.python.3.8_qbz5n2kfra8p0\\localcache\\local-packages\\python38\\site-packages (from patsy>=0.5.2->statsmodels) (1.16.0)\n",
      "Installing collected packages: patsy, statsmodels\n",
      "Successfully installed patsy-0.5.2 statsmodels-0.13.2\n"
     ]
    }
   ],
   "source": [
    "! pip install statsmodels"
   ]
  },
  {
   "cell_type": "code",
   "execution_count": 4,
   "id": "02eb4093",
   "metadata": {},
   "outputs": [],
   "source": [
    "%matplotlib inline\n",
    "import pandas as pd\n",
    "import numpy as np\n",
    "import matplotlib.pyplot as plt\n",
    "import seaborn as sns\n",
    "import csv\n",
    "import sklearn\n",
    "from sklearn import tree\n",
    "from sklearn.metrics import mean_squared_error, mean_absolute_error\n",
    "from sklearn.model_selection import train_test_split, cross_val_score\n",
    "from sklearn.tree import DecisionTreeRegressor\n",
    "from sklearn.neural_network import MLPRegressor"
   ]
  },
  {
   "cell_type": "markdown",
   "id": "b4f63d0b",
   "metadata": {},
   "source": [
    "## 1. Import dataset"
   ]
  },
  {
   "cell_type": "code",
   "execution_count": 5,
   "id": "62da8b22",
   "metadata": {
    "scrolled": false
   },
   "outputs": [
    {
     "name": "stderr",
     "output_type": "stream",
     "text": [
      "C:\\Users\\ZHANGL6\\AppData\\Local\\Temp\\1\\ipykernel_16100\\3203063653.py:3: DtypeWarning: Columns (8,13,16) have mixed types. Specify dtype option on import or set low_memory=False.\n",
      "  carprice = pd.read_csv(\"car_prices.csv\")\n"
     ]
    }
   ],
   "source": [
    "#Import the CSV File from Kaggle, remove the last extra column(16) from the dataset, total 558836 rows\n",
    "\n",
    "carprice = pd.read_csv(\"car_prices.csv\")\n",
    "carprice=carprice.drop(carprice.columns[16],axis=1)\n",
    "\n"
   ]
  },
  {
   "cell_type": "markdown",
   "id": "a724b933",
   "metadata": {},
   "source": [
    "## 2. Clean and process data\n"
   ]
  },
  {
   "cell_type": "code",
   "execution_count": 6,
   "id": "6a998704",
   "metadata": {},
   "outputs": [
    {
     "data": {
      "text/html": [
       "<div>\n",
       "<style scoped>\n",
       "    .dataframe tbody tr th:only-of-type {\n",
       "        vertical-align: middle;\n",
       "    }\n",
       "\n",
       "    .dataframe tbody tr th {\n",
       "        vertical-align: top;\n",
       "    }\n",
       "\n",
       "    .dataframe thead th {\n",
       "        text-align: right;\n",
       "    }\n",
       "</style>\n",
       "<table border=\"1\" class=\"dataframe\">\n",
       "  <thead>\n",
       "    <tr style=\"text-align: right;\">\n",
       "      <th></th>\n",
       "      <th>year</th>\n",
       "      <th>make</th>\n",
       "      <th>model</th>\n",
       "      <th>trim</th>\n",
       "      <th>body</th>\n",
       "      <th>transmission</th>\n",
       "      <th>vin</th>\n",
       "      <th>state</th>\n",
       "      <th>condition</th>\n",
       "      <th>odometer</th>\n",
       "      <th>color</th>\n",
       "      <th>interior</th>\n",
       "      <th>seller</th>\n",
       "      <th>mmr</th>\n",
       "      <th>sellingprice</th>\n",
       "      <th>saledate</th>\n",
       "    </tr>\n",
       "  </thead>\n",
       "  <tbody>\n",
       "    <tr>\n",
       "      <th>0</th>\n",
       "      <td>2015.0</td>\n",
       "      <td>Kia</td>\n",
       "      <td>Sorento</td>\n",
       "      <td>LX</td>\n",
       "      <td>SUV</td>\n",
       "      <td>automatic</td>\n",
       "      <td>5xyktca69fg566472</td>\n",
       "      <td>ca</td>\n",
       "      <td>5.0</td>\n",
       "      <td>16639.0</td>\n",
       "      <td>white</td>\n",
       "      <td>black</td>\n",
       "      <td>kia motors america, inc</td>\n",
       "      <td>20500</td>\n",
       "      <td>21500.0</td>\n",
       "      <td>Tue Dec 16 2014 12:30:00 GMT-0800 (PST)</td>\n",
       "    </tr>\n",
       "    <tr>\n",
       "      <th>1</th>\n",
       "      <td>2015.0</td>\n",
       "      <td>Kia</td>\n",
       "      <td>Sorento</td>\n",
       "      <td>LX</td>\n",
       "      <td>SUV</td>\n",
       "      <td>automatic</td>\n",
       "      <td>5xyktca69fg561319</td>\n",
       "      <td>ca</td>\n",
       "      <td>5.0</td>\n",
       "      <td>9393.0</td>\n",
       "      <td>white</td>\n",
       "      <td>beige</td>\n",
       "      <td>kia motors america, inc</td>\n",
       "      <td>20800</td>\n",
       "      <td>21500.0</td>\n",
       "      <td>Tue Dec 16 2014 12:30:00 GMT-0800 (PST)</td>\n",
       "    </tr>\n",
       "    <tr>\n",
       "      <th>2</th>\n",
       "      <td>2014.0</td>\n",
       "      <td>BMW</td>\n",
       "      <td>3 Series</td>\n",
       "      <td>328i SULEV</td>\n",
       "      <td>Sedan</td>\n",
       "      <td>automatic</td>\n",
       "      <td>wba3c1c51ek116351</td>\n",
       "      <td>ca</td>\n",
       "      <td>4.5</td>\n",
       "      <td>1331.0</td>\n",
       "      <td>gray</td>\n",
       "      <td>black</td>\n",
       "      <td>financial services remarketing (lease)</td>\n",
       "      <td>31900</td>\n",
       "      <td>30000.0</td>\n",
       "      <td>Thu Jan 15 2015 04:30:00 GMT-0800 (PST)</td>\n",
       "    </tr>\n",
       "    <tr>\n",
       "      <th>3</th>\n",
       "      <td>2015.0</td>\n",
       "      <td>Volvo</td>\n",
       "      <td>S60</td>\n",
       "      <td>T5</td>\n",
       "      <td>Sedan</td>\n",
       "      <td>automatic</td>\n",
       "      <td>yv1612tb4f1310987</td>\n",
       "      <td>ca</td>\n",
       "      <td>4.1</td>\n",
       "      <td>14282.0</td>\n",
       "      <td>white</td>\n",
       "      <td>black</td>\n",
       "      <td>volvo na rep/world omni</td>\n",
       "      <td>27500</td>\n",
       "      <td>27750.0</td>\n",
       "      <td>Thu Jan 29 2015 04:30:00 GMT-0800 (PST)</td>\n",
       "    </tr>\n",
       "    <tr>\n",
       "      <th>4</th>\n",
       "      <td>2014.0</td>\n",
       "      <td>BMW</td>\n",
       "      <td>6 Series Gran Coupe</td>\n",
       "      <td>650i</td>\n",
       "      <td>Sedan</td>\n",
       "      <td>automatic</td>\n",
       "      <td>wba6b2c57ed129731</td>\n",
       "      <td>ca</td>\n",
       "      <td>4.3</td>\n",
       "      <td>2641.0</td>\n",
       "      <td>gray</td>\n",
       "      <td>black</td>\n",
       "      <td>financial services remarketing (lease)</td>\n",
       "      <td>66000</td>\n",
       "      <td>67000.0</td>\n",
       "      <td>Thu Dec 18 2014 12:30:00 GMT-0800 (PST)</td>\n",
       "    </tr>\n",
       "  </tbody>\n",
       "</table>\n",
       "</div>"
      ],
      "text/plain": [
       "     year   make                model        trim   body transmission  \\\n",
       "0  2015.0    Kia              Sorento          LX    SUV    automatic   \n",
       "1  2015.0    Kia              Sorento          LX    SUV    automatic   \n",
       "2  2014.0    BMW             3 Series  328i SULEV  Sedan    automatic   \n",
       "3  2015.0  Volvo                  S60          T5  Sedan    automatic   \n",
       "4  2014.0    BMW  6 Series Gran Coupe        650i  Sedan    automatic   \n",
       "\n",
       "                 vin state condition  odometer  color interior  \\\n",
       "0  5xyktca69fg566472    ca       5.0   16639.0  white    black   \n",
       "1  5xyktca69fg561319    ca       5.0    9393.0  white    beige   \n",
       "2  wba3c1c51ek116351    ca       4.5    1331.0   gray    black   \n",
       "3  yv1612tb4f1310987    ca       4.1   14282.0  white    black   \n",
       "4  wba6b2c57ed129731    ca       4.3    2641.0   gray    black   \n",
       "\n",
       "                                   seller    mmr  sellingprice  \\\n",
       "0                 kia motors america, inc  20500       21500.0   \n",
       "1                 kia motors america, inc  20800       21500.0   \n",
       "2  financial services remarketing (lease)  31900       30000.0   \n",
       "3                 volvo na rep/world omni  27500       27750.0   \n",
       "4  financial services remarketing (lease)  66000       67000.0   \n",
       "\n",
       "                                  saledate  \n",
       "0  Tue Dec 16 2014 12:30:00 GMT-0800 (PST)  \n",
       "1  Tue Dec 16 2014 12:30:00 GMT-0800 (PST)  \n",
       "2  Thu Jan 15 2015 04:30:00 GMT-0800 (PST)  \n",
       "3  Thu Jan 29 2015 04:30:00 GMT-0800 (PST)  \n",
       "4  Thu Dec 18 2014 12:30:00 GMT-0800 (PST)  "
      ]
     },
     "execution_count": 6,
     "metadata": {},
     "output_type": "execute_result"
    }
   ],
   "source": [
    "carprice = carprice.dropna()\n",
    "carprice.head()"
   ]
  },
  {
   "cell_type": "markdown",
   "id": "643529cb",
   "metadata": {},
   "source": [
    "### 2.1 Get proper saledate value as datetime type\n"
   ]
  },
  {
   "cell_type": "code",
   "execution_count": 7,
   "metadata": {},
   "outputs": [
    {
     "data": {
      "text/html": [
       "<div>\n",
       "<style scoped>\n",
       "    .dataframe tbody tr th:only-of-type {\n",
       "        vertical-align: middle;\n",
       "    }\n",
       "\n",
       "    .dataframe tbody tr th {\n",
       "        vertical-align: top;\n",
       "    }\n",
       "\n",
       "    .dataframe thead th {\n",
       "        text-align: right;\n",
       "    }\n",
       "</style>\n",
       "<table border=\"1\" class=\"dataframe\">\n",
       "  <thead>\n",
       "    <tr style=\"text-align: right;\">\n",
       "      <th></th>\n",
       "      <th>year</th>\n",
       "      <th>make</th>\n",
       "      <th>model</th>\n",
       "      <th>trim</th>\n",
       "      <th>body</th>\n",
       "      <th>transmission</th>\n",
       "      <th>vin</th>\n",
       "      <th>state</th>\n",
       "      <th>condition</th>\n",
       "      <th>odometer</th>\n",
       "      <th>color</th>\n",
       "      <th>interior</th>\n",
       "      <th>seller</th>\n",
       "      <th>mmr</th>\n",
       "      <th>sellingprice</th>\n",
       "      <th>sale_date</th>\n",
       "    </tr>\n",
       "  </thead>\n",
       "  <tbody>\n",
       "    <tr>\n",
       "      <th>0</th>\n",
       "      <td>2015.0</td>\n",
       "      <td>Kia</td>\n",
       "      <td>Sorento</td>\n",
       "      <td>LX</td>\n",
       "      <td>SUV</td>\n",
       "      <td>automatic</td>\n",
       "      <td>5xyktca69fg566472</td>\n",
       "      <td>ca</td>\n",
       "      <td>5.0</td>\n",
       "      <td>16639.0</td>\n",
       "      <td>white</td>\n",
       "      <td>black</td>\n",
       "      <td>kia motors america, inc</td>\n",
       "      <td>20500</td>\n",
       "      <td>21500.0</td>\n",
       "      <td>Tue Dec 16 2014 12:30:00 GMT-0800 (PST)</td>\n",
       "    </tr>\n",
       "    <tr>\n",
       "      <th>1</th>\n",
       "      <td>2015.0</td>\n",
       "      <td>Kia</td>\n",
       "      <td>Sorento</td>\n",
       "      <td>LX</td>\n",
       "      <td>SUV</td>\n",
       "      <td>automatic</td>\n",
       "      <td>5xyktca69fg561319</td>\n",
       "      <td>ca</td>\n",
       "      <td>5.0</td>\n",
       "      <td>9393.0</td>\n",
       "      <td>white</td>\n",
       "      <td>beige</td>\n",
       "      <td>kia motors america, inc</td>\n",
       "      <td>20800</td>\n",
       "      <td>21500.0</td>\n",
       "      <td>Tue Dec 16 2014 12:30:00 GMT-0800 (PST)</td>\n",
       "    </tr>\n",
       "    <tr>\n",
       "      <th>2</th>\n",
       "      <td>2014.0</td>\n",
       "      <td>BMW</td>\n",
       "      <td>3 Series</td>\n",
       "      <td>328i SULEV</td>\n",
       "      <td>Sedan</td>\n",
       "      <td>automatic</td>\n",
       "      <td>wba3c1c51ek116351</td>\n",
       "      <td>ca</td>\n",
       "      <td>4.5</td>\n",
       "      <td>1331.0</td>\n",
       "      <td>gray</td>\n",
       "      <td>black</td>\n",
       "      <td>financial services remarketing (lease)</td>\n",
       "      <td>31900</td>\n",
       "      <td>30000.0</td>\n",
       "      <td>Thu Jan 15 2015 04:30:00 GMT-0800 (PST)</td>\n",
       "    </tr>\n",
       "    <tr>\n",
       "      <th>3</th>\n",
       "      <td>2015.0</td>\n",
       "      <td>Volvo</td>\n",
       "      <td>S60</td>\n",
       "      <td>T5</td>\n",
       "      <td>Sedan</td>\n",
       "      <td>automatic</td>\n",
       "      <td>yv1612tb4f1310987</td>\n",
       "      <td>ca</td>\n",
       "      <td>4.1</td>\n",
       "      <td>14282.0</td>\n",
       "      <td>white</td>\n",
       "      <td>black</td>\n",
       "      <td>volvo na rep/world omni</td>\n",
       "      <td>27500</td>\n",
       "      <td>27750.0</td>\n",
       "      <td>Thu Jan 29 2015 04:30:00 GMT-0800 (PST)</td>\n",
       "    </tr>\n",
       "    <tr>\n",
       "      <th>4</th>\n",
       "      <td>2014.0</td>\n",
       "      <td>BMW</td>\n",
       "      <td>6 Series Gran Coupe</td>\n",
       "      <td>650i</td>\n",
       "      <td>Sedan</td>\n",
       "      <td>automatic</td>\n",
       "      <td>wba6b2c57ed129731</td>\n",
       "      <td>ca</td>\n",
       "      <td>4.3</td>\n",
       "      <td>2641.0</td>\n",
       "      <td>gray</td>\n",
       "      <td>black</td>\n",
       "      <td>financial services remarketing (lease)</td>\n",
       "      <td>66000</td>\n",
       "      <td>67000.0</td>\n",
       "      <td>Thu Dec 18 2014 12:30:00 GMT-0800 (PST)</td>\n",
       "    </tr>\n",
       "  </tbody>\n",
       "</table>\n",
       "</div>"
      ],
      "text/plain": [
       "     year   make                model        trim   body transmission  \\\n",
       "0  2015.0    Kia              Sorento          LX    SUV    automatic   \n",
       "1  2015.0    Kia              Sorento          LX    SUV    automatic   \n",
       "2  2014.0    BMW             3 Series  328i SULEV  Sedan    automatic   \n",
       "3  2015.0  Volvo                  S60          T5  Sedan    automatic   \n",
       "4  2014.0    BMW  6 Series Gran Coupe        650i  Sedan    automatic   \n",
       "\n",
       "                 vin state condition  odometer  color interior  \\\n",
       "0  5xyktca69fg566472    ca       5.0   16639.0  white    black   \n",
       "1  5xyktca69fg561319    ca       5.0    9393.0  white    beige   \n",
       "2  wba3c1c51ek116351    ca       4.5    1331.0   gray    black   \n",
       "3  yv1612tb4f1310987    ca       4.1   14282.0  white    black   \n",
       "4  wba6b2c57ed129731    ca       4.3    2641.0   gray    black   \n",
       "\n",
       "                                   seller    mmr  sellingprice  \\\n",
       "0                 kia motors america, inc  20500       21500.0   \n",
       "1                 kia motors america, inc  20800       21500.0   \n",
       "2  financial services remarketing (lease)  31900       30000.0   \n",
       "3                 volvo na rep/world omni  27500       27750.0   \n",
       "4  financial services remarketing (lease)  66000       67000.0   \n",
       "\n",
       "                                 sale_date  \n",
       "0  Tue Dec 16 2014 12:30:00 GMT-0800 (PST)  \n",
       "1  Tue Dec 16 2014 12:30:00 GMT-0800 (PST)  \n",
       "2  Thu Jan 15 2015 04:30:00 GMT-0800 (PST)  \n",
       "3  Thu Jan 29 2015 04:30:00 GMT-0800 (PST)  \n",
       "4  Thu Dec 18 2014 12:30:00 GMT-0800 (PST)  "
      ]
     },
     "execution_count": 7,
     "metadata": {},
     "output_type": "execute_result"
    }
   ],
   "source": [
    "\n",
    "# Create a new column Sale_date to store the sale_date value\n",
    "#Use saledate column as key, converted to numeric value. Becuase by looking at the data file, some rows has a number instead of date. Returning NaN means the value in that row is invalid\n",
    "#Drop non-NaN (in this case keep all NaN) rows\n",
    "#Drop column saledate as all is already stored in sale_date column\n",
    "carprice_1=carprice\n",
    "carprice_1['sale_date']=carprice_1['saledate']\n",
    "carprice_1['saledate']=pd.to_numeric(carprice_1['saledate'],errors='coerce')\n",
    "carprice_1=carprice_1.loc[pd.isna(carprice['saledate'])]\n",
    "carprice_1=carprice_1.drop(columns='saledate')\n",
    "carprice_1.head()\n"
   ]
  },
  {
   "cell_type": "code",
   "execution_count": 8,
   "id": "963da703",
   "metadata": {},
   "outputs": [
    {
     "data": {
      "text/plain": [
       "0   2014-12-16 12:30:00\n",
       "1   2014-12-16 12:30:00\n",
       "2   2015-01-15 04:30:00\n",
       "3   2015-01-29 04:30:00\n",
       "4   2014-12-18 12:30:00\n",
       "Name: sale_date, dtype: datetime64[ns]"
      ]
     },
     "execution_count": 8,
     "metadata": {},
     "output_type": "execute_result"
    }
   ],
   "source": [
    "#Convert sale_date to type of datetime\n",
    "#First- slice the last 15 char : -GMT-0800(PST)\n",
    "#Second- convert using pd.to_datetime()\n",
    "carprice_1['sale_date']=carprice_1['sale_date'].str.slice(0,-15,1)\n",
    "carprice_1['sale_date']=pd.to_datetime(carprice_1['sale_date'],format='%a %b %d %Y %H:%M:%S')\n",
    "carprice_1['sale_date'].head()"
   ]
  },
  {
   "cell_type": "code",
   "execution_count": 9,
   "id": "430534b3",
   "metadata": {},
   "outputs": [
    {
     "name": "stdout",
     "output_type": "stream",
     "text": [
      "<class 'pandas.core.frame.DataFrame'>\n",
      "Int64Index: 472334 entries, 0 to 558835\n",
      "Data columns (total 20 columns):\n",
      " #   Column        Non-Null Count   Dtype  \n",
      "---  ------        --------------   -----  \n",
      " 0   year          472334 non-null  float64\n",
      " 1   make          472334 non-null  object \n",
      " 2   model         472334 non-null  object \n",
      " 3   trim          472334 non-null  object \n",
      " 4   body          472334 non-null  object \n",
      " 5   transmission  472334 non-null  object \n",
      " 6   vin           472334 non-null  object \n",
      " 7   state         472334 non-null  object \n",
      " 8   condition     472334 non-null  object \n",
      " 9   odometer      472334 non-null  float64\n",
      " 10  color         472334 non-null  object \n",
      " 11  interior      472334 non-null  object \n",
      " 12  seller        472334 non-null  object \n",
      " 13  mmr           472334 non-null  object \n",
      " 14  sellingprice  472334 non-null  float64\n",
      " 15  sale_weekday  472334 non-null  object \n",
      " 16  sale_year     472334 non-null  int64  \n",
      " 17  sale_month    472334 non-null  object \n",
      " 18  sale_day      472334 non-null  int64  \n",
      " 19  sale_time     472334 non-null  int64  \n",
      "dtypes: float64(3), int64(3), object(14)\n",
      "memory usage: 75.7+ MB\n"
     ]
    }
   ],
   "source": [
    "#Create new columns from sale_date to further detail ie. Day, month, year, weekday, hour\n",
    "#Drop the original sale_date column\n",
    "\n",
    "carprice_1['sale_weekday']=carprice_1['sale_date'].dt.day_name()\n",
    "carprice_1['sale_year']=carprice_1['sale_date'].dt.year\n",
    "carprice_1['sale_month']=carprice_1['sale_date'].dt.month_name()\n",
    "carprice_1['sale_day']=carprice_1['sale_date'].dt.day\n",
    "carprice_1['sale_time']=carprice_1['sale_date'].dt.hour\n",
    "carprice_1=carprice_1.drop(columns=['sale_date'])\n",
    "carprice_1.info()"
   ]
  },
  {
   "cell_type": "markdown",
   "id": "c00a3300",
   "metadata": {},
   "source": [
    "### 2.2 Drop anomaly in Model column"
   ]
  },
  {
   "cell_type": "code",
   "execution_count": 10,
   "id": "2a7624e7",
   "metadata": {},
   "outputs": [
    {
     "name": "stdout",
     "output_type": "stream",
     "text": [
      "<class 'pandas.core.frame.DataFrame'>\n",
      "Int64Index: 471975 entries, 0 to 558835\n",
      "Data columns (total 20 columns):\n",
      " #   Column        Non-Null Count   Dtype  \n",
      "---  ------        --------------   -----  \n",
      " 0   year          471975 non-null  float64\n",
      " 1   make          471975 non-null  object \n",
      " 2   model         471975 non-null  object \n",
      " 3   trim          471975 non-null  object \n",
      " 4   body          471975 non-null  object \n",
      " 5   transmission  471975 non-null  object \n",
      " 6   vin           471975 non-null  object \n",
      " 7   state         471975 non-null  object \n",
      " 8   condition     471975 non-null  object \n",
      " 9   odometer      471975 non-null  float64\n",
      " 10  color         471975 non-null  object \n",
      " 11  interior      471975 non-null  object \n",
      " 12  seller        471975 non-null  object \n",
      " 13  mmr           471975 non-null  object \n",
      " 14  sellingprice  471975 non-null  float64\n",
      " 15  sale_weekday  471975 non-null  object \n",
      " 16  sale_year     471975 non-null  int64  \n",
      " 17  sale_month    471975 non-null  object \n",
      " 18  sale_day      471975 non-null  int64  \n",
      " 19  sale_time     471975 non-null  int64  \n",
      "dtypes: float64(3), int64(3), object(14)\n",
      "memory usage: 75.6+ MB\n"
     ]
    }
   ],
   "source": [
    "#Drop rows that contain '-' at columen 'Model'\n",
    "#Understanding condition(boolen) in dataframe/series--df[df['column']==1] will select rows that are True\n",
    "carprice_2=carprice_1\n",
    "carprice_2=carprice_2.drop(carprice_2[carprice_2['model'].str.contains('-Sep').astype(bool)].index)\n",
    "carprice_2.info()\n"
   ]
  },
  {
   "cell_type": "markdown",
   "id": "bb495c43",
   "metadata": {},
   "source": [
    "### 2.3 Drop anomaly in transmission\n",
    "\n"
   ]
  },
  {
   "cell_type": "code",
   "execution_count": 11,
   "id": "b7985c11",
   "metadata": {},
   "outputs": [
    {
     "name": "stdout",
     "output_type": "stream",
     "text": [
      "<class 'pandas.core.frame.DataFrame'>\n",
      "Int64Index: 471975 entries, 0 to 558835\n",
      "Data columns (total 20 columns):\n",
      " #   Column        Non-Null Count   Dtype  \n",
      "---  ------        --------------   -----  \n",
      " 0   year          471975 non-null  float64\n",
      " 1   make          471975 non-null  object \n",
      " 2   model         471975 non-null  object \n",
      " 3   trim          471975 non-null  object \n",
      " 4   body          471975 non-null  object \n",
      " 5   transmission  471975 non-null  object \n",
      " 6   vin           471975 non-null  object \n",
      " 7   state         471975 non-null  object \n",
      " 8   condition     471975 non-null  object \n",
      " 9   odometer      471975 non-null  float64\n",
      " 10  color         471975 non-null  object \n",
      " 11  interior      471975 non-null  object \n",
      " 12  seller        471975 non-null  object \n",
      " 13  mmr           471975 non-null  object \n",
      " 14  sellingprice  471975 non-null  float64\n",
      " 15  sale_weekday  471975 non-null  object \n",
      " 16  sale_year     471975 non-null  int64  \n",
      " 17  sale_month    471975 non-null  object \n",
      " 18  sale_day      471975 non-null  int64  \n",
      " 19  sale_time     471975 non-null  int64  \n",
      "dtypes: float64(3), int64(3), object(14)\n",
      "memory usage: 75.6+ MB\n"
     ]
    }
   ],
   "source": [
    "carprice_2=carprice_2.drop(carprice_2[carprice_2['transmission'].str.contains('Sedan').astype(bool)].index)\n",
    "carprice_2.info()"
   ]
  },
  {
   "cell_type": "markdown",
   "id": "e1f4a5d2",
   "metadata": {},
   "source": [
    "### 2.3 Drop anomaly in transmission\n",
    "\n"
   ]
  },
  {
   "cell_type": "code",
   "execution_count": 12,
   "id": "53b663a4",
   "metadata": {},
   "outputs": [
    {
     "name": "stdout",
     "output_type": "stream",
     "text": [
      "year            0\n",
      "make            0\n",
      "model           0\n",
      "trim            0\n",
      "body            0\n",
      "transmission    0\n",
      "vin             0\n",
      "state           0\n",
      "condition       0\n",
      "odometer        0\n",
      "color           0\n",
      "interior        0\n",
      "seller          0\n",
      "mmr             0\n",
      "sellingprice    0\n",
      "sale_weekday    0\n",
      "sale_year       0\n",
      "sale_month      0\n",
      "sale_day        0\n",
      "sale_time       0\n",
      "dtype: int64\n"
     ]
    }
   ],
   "source": [
    "#Check null value from the dataframe\n",
    "#.sum() is the function that return the sum of the values over the requested axis\n",
    "\n",
    "print(carprice_2.isnull().sum())"
   ]
  },
  {
   "cell_type": "code",
   "execution_count": 13,
   "id": "d11c2d70",
   "metadata": {},
   "outputs": [
    {
     "name": "stdout",
     "output_type": "stream",
     "text": [
      "<class 'pandas.core.frame.DataFrame'>\n",
      "Int64Index: 471975 entries, 0 to 558835\n",
      "Data columns (total 20 columns):\n",
      " #   Column        Non-Null Count   Dtype  \n",
      "---  ------        --------------   -----  \n",
      " 0   year          471975 non-null  float64\n",
      " 1   make          471975 non-null  object \n",
      " 2   model         471975 non-null  object \n",
      " 3   trim          471975 non-null  object \n",
      " 4   body          471975 non-null  object \n",
      " 5   transmission  471975 non-null  object \n",
      " 6   vin           471975 non-null  object \n",
      " 7   state         471975 non-null  object \n",
      " 8   condition     471975 non-null  float64\n",
      " 9   odometer      471975 non-null  float64\n",
      " 10  color         471975 non-null  object \n",
      " 11  interior      471975 non-null  object \n",
      " 12  seller        471975 non-null  object \n",
      " 13  mmr           471975 non-null  float64\n",
      " 14  sellingprice  471975 non-null  float64\n",
      " 15  sale_weekday  471975 non-null  object \n",
      " 16  sale_year     471975 non-null  int64  \n",
      " 17  sale_month    471975 non-null  object \n",
      " 18  sale_day      471975 non-null  int64  \n",
      " 19  sale_time     471975 non-null  int64  \n",
      "dtypes: float64(5), int64(3), object(12)\n",
      "memory usage: 75.6+ MB\n"
     ]
    }
   ],
   "source": [
    "#Make the 'condition' and 'mmr' data type from Object to float64 \n",
    "#At the sametime remove the error from the dataset, clean up the csv file\n",
    "#Link of Error Free dataset in the Data Source Cell\n",
    "#Datatype of each variables show below\n",
    "\n",
    "carprice_2['condition'] = carprice_2['condition'].astype(float)\n",
    "carprice_2['mmr'] = carprice_2['mmr'].astype(float)\n",
    "carprice_2.info()\n"
   ]
  },
  {
   "cell_type": "markdown",
   "id": "8486bfdb",
   "metadata": {},
   "source": [
    "## 3.Explore the dataset\n",
    "\n",
    "### Plot the distrubution of the variables\n",
    ", \"mmr\", \"odometer\", \"sellingprice\"\n",
    ", \"condition\""
   ]
  },
  {
   "cell_type": "code",
   "execution_count": 17,
   "id": "d040ea7b",
   "metadata": {},
   "outputs": [
    {
     "data": {
      "image/png": "[encoded data removed]",
      "text/plain": [
       "<Figure size 288x360 with 1 Axes>"
      ]
     },
     "metadata": {
      "needs_background": "light"
     },
     "output_type": "display_data"
    },
    {
     "data": {
      "image/png": "[encoded data removed]",
      "text/plain": [
       "<Figure size 288x360 with 1 Axes>"
      ]
     },
     "metadata": {
      "needs_background": "light"
     },
     "output_type": "display_data"
    },
    {
     "data": {
      "image/png": "[encoded data removed]",
      "text/plain": [
       "<Figure size 288x360 with 1 Axes>"
      ]
     },
     "metadata": {
      "needs_background": "light"
     },
     "output_type": "display_data"
    },
    {
     "data": {
      "image/png": "[encoded data removed]",
      "text/plain": [
       "<Figure size 288x360 with 1 Axes>"
      ]
     },
     "metadata": {
      "needs_background": "light"
     },
     "output_type": "display_data"
    },
    {
     "data": {
      "image/png": "[encoded data removed]",
      "text/plain": [
       "<Figure size 288x360 with 1 Axes>"
      ]
     },
     "metadata": {
      "needs_background": "light"
     },
     "output_type": "display_data"
    }
   ],
   "source": [
    "import matplotlib.pyplot as plt\n",
    "carprice_2[[\"year\"]].hist(bins=100, figsize=(4,5))\n",
    "carprice_2[[\"mmr\"]].hist(bins=100, figsize=(4,5))\n",
    "carprice_2[[\"odometer\"]].hist(bins=100, figsize=(4,5))\n",
    "carprice_2[[\"sellingprice\"]].hist(bins=100, figsize=(4,5))\n",
    "carprice_2[[\"condition\"]].hist(bins=100, figsize=(4,5))\n",
    "plt.show()"
   ]
  },
  {
   "cell_type": "code",
   "execution_count": 18,
   "id": "cbd574d4",
   "metadata": {},
   "outputs": [
    {
     "name": "stderr",
     "output_type": "stream",
     "text": [
      "C:\\Users\\ZHANGL6\\AppData\\Local\\Temp\\1\\ipykernel_16100\\1189907615.py:2: FutureWarning: Dropping of nuisance columns in DataFrame reductions (with 'numeric_only=None') is deprecated; in a future version this will raise TypeError.  Select only valid columns before calling the reduction.\n",
      "  carprice_2.skew().sort_values(ascending=False)\n"
     ]
    },
    {
     "data": {
      "text/plain": [
       "mmr             2.050761\n",
       "sellingprice    2.004289\n",
       "odometer        1.916778\n",
       "sale_time       1.570527\n",
       "sale_day        0.042342\n",
       "condition      -0.348141\n",
       "year           -1.208259\n",
       "sale_year      -3.150606\n",
       "dtype: float64"
      ]
     },
     "execution_count": 18,
     "metadata": {},
     "output_type": "execute_result"
    }
   ],
   "source": [
    "# Check for skew in data\n",
    "carprice_2.skew().sort_values(ascending=False)"
   ]
  },
  {
   "cell_type": "code",
   "execution_count": 21,
   "id": "69db0d85",
   "metadata": {},
   "outputs": [
    {
     "data": {
      "text/html": [
       "<div>\n",
       "<style scoped>\n",
       "    .dataframe tbody tr th:only-of-type {\n",
       "        vertical-align: middle;\n",
       "    }\n",
       "\n",
       "    .dataframe tbody tr th {\n",
       "        vertical-align: top;\n",
       "    }\n",
       "\n",
       "    .dataframe thead th {\n",
       "        text-align: right;\n",
       "    }\n",
       "</style>\n",
       "<table border=\"1\" class=\"dataframe\">\n",
       "  <thead>\n",
       "    <tr style=\"text-align: right;\">\n",
       "      <th></th>\n",
       "      <th>year</th>\n",
       "      <th>make</th>\n",
       "      <th>model</th>\n",
       "      <th>trim</th>\n",
       "      <th>body</th>\n",
       "      <th>transmission</th>\n",
       "      <th>vin</th>\n",
       "      <th>state</th>\n",
       "      <th>condition</th>\n",
       "      <th>odometer</th>\n",
       "      <th>color</th>\n",
       "      <th>interior</th>\n",
       "      <th>seller</th>\n",
       "      <th>mmr</th>\n",
       "      <th>sellingprice</th>\n",
       "      <th>sale_weekday</th>\n",
       "      <th>sale_year</th>\n",
       "      <th>sale_month</th>\n",
       "      <th>sale_day</th>\n",
       "      <th>sale_time</th>\n",
       "    </tr>\n",
       "  </thead>\n",
       "  <tbody>\n",
       "    <tr>\n",
       "      <th>0</th>\n",
       "      <td>2015.0</td>\n",
       "      <td>Kia</td>\n",
       "      <td>Sorento</td>\n",
       "      <td>LX</td>\n",
       "      <td>SUV</td>\n",
       "      <td>automatic</td>\n",
       "      <td>5xyktca69fg566472</td>\n",
       "      <td>ca</td>\n",
       "      <td>5.0</td>\n",
       "      <td>16639.0</td>\n",
       "      <td>white</td>\n",
       "      <td>black</td>\n",
       "      <td>kia motors america, inc</td>\n",
       "      <td>20500.0</td>\n",
       "      <td>21500.0</td>\n",
       "      <td>Tuesday</td>\n",
       "      <td>2014</td>\n",
       "      <td>December</td>\n",
       "      <td>16</td>\n",
       "      <td>12</td>\n",
       "    </tr>\n",
       "    <tr>\n",
       "      <th>1</th>\n",
       "      <td>2015.0</td>\n",
       "      <td>Kia</td>\n",
       "      <td>Sorento</td>\n",
       "      <td>LX</td>\n",
       "      <td>SUV</td>\n",
       "      <td>automatic</td>\n",
       "      <td>5xyktca69fg561319</td>\n",
       "      <td>ca</td>\n",
       "      <td>5.0</td>\n",
       "      <td>9393.0</td>\n",
       "      <td>white</td>\n",
       "      <td>beige</td>\n",
       "      <td>kia motors america, inc</td>\n",
       "      <td>20800.0</td>\n",
       "      <td>21500.0</td>\n",
       "      <td>Tuesday</td>\n",
       "      <td>2014</td>\n",
       "      <td>December</td>\n",
       "      <td>16</td>\n",
       "      <td>12</td>\n",
       "    </tr>\n",
       "    <tr>\n",
       "      <th>2</th>\n",
       "      <td>2014.0</td>\n",
       "      <td>BMW</td>\n",
       "      <td>3 Series</td>\n",
       "      <td>328i SULEV</td>\n",
       "      <td>Sedan</td>\n",
       "      <td>automatic</td>\n",
       "      <td>wba3c1c51ek116351</td>\n",
       "      <td>ca</td>\n",
       "      <td>4.5</td>\n",
       "      <td>1331.0</td>\n",
       "      <td>gray</td>\n",
       "      <td>black</td>\n",
       "      <td>financial services remarketing (lease)</td>\n",
       "      <td>31900.0</td>\n",
       "      <td>30000.0</td>\n",
       "      <td>Thursday</td>\n",
       "      <td>2015</td>\n",
       "      <td>January</td>\n",
       "      <td>15</td>\n",
       "      <td>4</td>\n",
       "    </tr>\n",
       "    <tr>\n",
       "      <th>3</th>\n",
       "      <td>2015.0</td>\n",
       "      <td>Volvo</td>\n",
       "      <td>S60</td>\n",
       "      <td>T5</td>\n",
       "      <td>Sedan</td>\n",
       "      <td>automatic</td>\n",
       "      <td>yv1612tb4f1310987</td>\n",
       "      <td>ca</td>\n",
       "      <td>4.1</td>\n",
       "      <td>14282.0</td>\n",
       "      <td>white</td>\n",
       "      <td>black</td>\n",
       "      <td>volvo na rep/world omni</td>\n",
       "      <td>27500.0</td>\n",
       "      <td>27750.0</td>\n",
       "      <td>Thursday</td>\n",
       "      <td>2015</td>\n",
       "      <td>January</td>\n",
       "      <td>29</td>\n",
       "      <td>4</td>\n",
       "    </tr>\n",
       "    <tr>\n",
       "      <th>4</th>\n",
       "      <td>2014.0</td>\n",
       "      <td>BMW</td>\n",
       "      <td>6 Series Gran Coupe</td>\n",
       "      <td>650i</td>\n",
       "      <td>Sedan</td>\n",
       "      <td>automatic</td>\n",
       "      <td>wba6b2c57ed129731</td>\n",
       "      <td>ca</td>\n",
       "      <td>4.3</td>\n",
       "      <td>2641.0</td>\n",
       "      <td>gray</td>\n",
       "      <td>black</td>\n",
       "      <td>financial services remarketing (lease)</td>\n",
       "      <td>66000.0</td>\n",
       "      <td>67000.0</td>\n",
       "      <td>Thursday</td>\n",
       "      <td>2014</td>\n",
       "      <td>December</td>\n",
       "      <td>18</td>\n",
       "      <td>12</td>\n",
       "    </tr>\n",
       "    <tr>\n",
       "      <th>...</th>\n",
       "      <td>...</td>\n",
       "      <td>...</td>\n",
       "      <td>...</td>\n",
       "      <td>...</td>\n",
       "      <td>...</td>\n",
       "      <td>...</td>\n",
       "      <td>...</td>\n",
       "      <td>...</td>\n",
       "      <td>...</td>\n",
       "      <td>...</td>\n",
       "      <td>...</td>\n",
       "      <td>...</td>\n",
       "      <td>...</td>\n",
       "      <td>...</td>\n",
       "      <td>...</td>\n",
       "      <td>...</td>\n",
       "      <td>...</td>\n",
       "      <td>...</td>\n",
       "      <td>...</td>\n",
       "      <td>...</td>\n",
       "    </tr>\n",
       "    <tr>\n",
       "      <th>558830</th>\n",
       "      <td>2011.0</td>\n",
       "      <td>BMW</td>\n",
       "      <td>5 Series</td>\n",
       "      <td>528i</td>\n",
       "      <td>Sedan</td>\n",
       "      <td>automatic</td>\n",
       "      <td>wbafr1c53bc744672</td>\n",
       "      <td>fl</td>\n",
       "      <td>3.9</td>\n",
       "      <td>66403.0</td>\n",
       "      <td>white</td>\n",
       "      <td>brown</td>\n",
       "      <td>lauderdale imports ltd bmw pembrok pines</td>\n",
       "      <td>20300.0</td>\n",
       "      <td>22800.0</td>\n",
       "      <td>Tuesday</td>\n",
       "      <td>2015</td>\n",
       "      <td>July</td>\n",
       "      <td>7</td>\n",
       "      <td>6</td>\n",
       "    </tr>\n",
       "    <tr>\n",
       "      <th>558832</th>\n",
       "      <td>2012.0</td>\n",
       "      <td>Ram</td>\n",
       "      <td>2500</td>\n",
       "      <td>Power Wagon</td>\n",
       "      <td>Crew Cab</td>\n",
       "      <td>automatic</td>\n",
       "      <td>3c6td5et6cg112407</td>\n",
       "      <td>wa</td>\n",
       "      <td>5.0</td>\n",
       "      <td>54393.0</td>\n",
       "      <td>white</td>\n",
       "      <td>black</td>\n",
       "      <td>i -5 uhlmann rv</td>\n",
       "      <td>30200.0</td>\n",
       "      <td>30800.0</td>\n",
       "      <td>Wednesday</td>\n",
       "      <td>2015</td>\n",
       "      <td>July</td>\n",
       "      <td>8</td>\n",
       "      <td>9</td>\n",
       "    </tr>\n",
       "    <tr>\n",
       "      <th>558833</th>\n",
       "      <td>2012.0</td>\n",
       "      <td>BMW</td>\n",
       "      <td>X5</td>\n",
       "      <td>xDrive35d</td>\n",
       "      <td>SUV</td>\n",
       "      <td>automatic</td>\n",
       "      <td>5uxzw0c58cl668465</td>\n",
       "      <td>ca</td>\n",
       "      <td>4.8</td>\n",
       "      <td>50561.0</td>\n",
       "      <td>black</td>\n",
       "      <td>black</td>\n",
       "      <td>financial services remarketing (lease)</td>\n",
       "      <td>29800.0</td>\n",
       "      <td>34000.0</td>\n",
       "      <td>Wednesday</td>\n",
       "      <td>2015</td>\n",
       "      <td>July</td>\n",
       "      <td>8</td>\n",
       "      <td>9</td>\n",
       "    </tr>\n",
       "    <tr>\n",
       "      <th>558834</th>\n",
       "      <td>2015.0</td>\n",
       "      <td>Nissan</td>\n",
       "      <td>Altima</td>\n",
       "      <td>2.5 S</td>\n",
       "      <td>sedan</td>\n",
       "      <td>automatic</td>\n",
       "      <td>1n4al3ap0fc216050</td>\n",
       "      <td>ga</td>\n",
       "      <td>3.8</td>\n",
       "      <td>16658.0</td>\n",
       "      <td>white</td>\n",
       "      <td>black</td>\n",
       "      <td>enterprise vehicle exchange / tra / rental / t...</td>\n",
       "      <td>15100.0</td>\n",
       "      <td>11100.0</td>\n",
       "      <td>Thursday</td>\n",
       "      <td>2015</td>\n",
       "      <td>July</td>\n",
       "      <td>9</td>\n",
       "      <td>6</td>\n",
       "    </tr>\n",
       "    <tr>\n",
       "      <th>558835</th>\n",
       "      <td>2014.0</td>\n",
       "      <td>Ford</td>\n",
       "      <td>F-150</td>\n",
       "      <td>XLT</td>\n",
       "      <td>SuperCrew</td>\n",
       "      <td>automatic</td>\n",
       "      <td>1ftfw1et2eke87277</td>\n",
       "      <td>ca</td>\n",
       "      <td>3.4</td>\n",
       "      <td>15008.0</td>\n",
       "      <td>gray</td>\n",
       "      <td>gray</td>\n",
       "      <td>ford motor credit company,llc pd</td>\n",
       "      <td>29600.0</td>\n",
       "      <td>26700.0</td>\n",
       "      <td>Thursday</td>\n",
       "      <td>2015</td>\n",
       "      <td>May</td>\n",
       "      <td>28</td>\n",
       "      <td>5</td>\n",
       "    </tr>\n",
       "  </tbody>\n",
       "</table>\n",
       "<p>471975 rows × 20 columns</p>\n",
       "</div>"
      ],
      "text/plain": [
       "          year    make                model         trim       body  \\\n",
       "0       2015.0     Kia              Sorento           LX        SUV   \n",
       "1       2015.0     Kia              Sorento           LX        SUV   \n",
       "2       2014.0     BMW             3 Series   328i SULEV      Sedan   \n",
       "3       2015.0   Volvo                  S60           T5      Sedan   \n",
       "4       2014.0     BMW  6 Series Gran Coupe         650i      Sedan   \n",
       "...        ...     ...                  ...          ...        ...   \n",
       "558830  2011.0     BMW             5 Series         528i      Sedan   \n",
       "558832  2012.0     Ram                 2500  Power Wagon   Crew Cab   \n",
       "558833  2012.0     BMW                   X5    xDrive35d        SUV   \n",
       "558834  2015.0  Nissan               Altima        2.5 S      sedan   \n",
       "558835  2014.0    Ford                F-150          XLT  SuperCrew   \n",
       "\n",
       "       transmission                vin state  condition  odometer  color  \\\n",
       "0         automatic  5xyktca69fg566472    ca        5.0   16639.0  white   \n",
       "1         automatic  5xyktca69fg561319    ca        5.0    9393.0  white   \n",
       "2         automatic  wba3c1c51ek116351    ca        4.5    1331.0   gray   \n",
       "3         automatic  yv1612tb4f1310987    ca        4.1   14282.0  white   \n",
       "4         automatic  wba6b2c57ed129731    ca        4.3    2641.0   gray   \n",
       "...             ...                ...   ...        ...       ...    ...   \n",
       "558830    automatic  wbafr1c53bc744672    fl        3.9   66403.0  white   \n",
       "558832    automatic  3c6td5et6cg112407    wa        5.0   54393.0  white   \n",
       "558833    automatic  5uxzw0c58cl668465    ca        4.8   50561.0  black   \n",
       "558834    automatic  1n4al3ap0fc216050    ga        3.8   16658.0  white   \n",
       "558835    automatic  1ftfw1et2eke87277    ca        3.4   15008.0   gray   \n",
       "\n",
       "       interior                                             seller      mmr  \\\n",
       "0         black                            kia motors america, inc  20500.0   \n",
       "1         beige                            kia motors america, inc  20800.0   \n",
       "2         black             financial services remarketing (lease)  31900.0   \n",
       "3         black                            volvo na rep/world omni  27500.0   \n",
       "4         black             financial services remarketing (lease)  66000.0   \n",
       "...         ...                                                ...      ...   \n",
       "558830    brown           lauderdale imports ltd bmw pembrok pines  20300.0   \n",
       "558832    black                                    i -5 uhlmann rv  30200.0   \n",
       "558833    black             financial services remarketing (lease)  29800.0   \n",
       "558834    black  enterprise vehicle exchange / tra / rental / t...  15100.0   \n",
       "558835     gray                   ford motor credit company,llc pd  29600.0   \n",
       "\n",
       "        sellingprice sale_weekday  sale_year sale_month  sale_day  sale_time  \n",
       "0            21500.0      Tuesday       2014   December        16         12  \n",
       "1            21500.0      Tuesday       2014   December        16         12  \n",
       "2            30000.0     Thursday       2015    January        15          4  \n",
       "3            27750.0     Thursday       2015    January        29          4  \n",
       "4            67000.0     Thursday       2014   December        18         12  \n",
       "...              ...          ...        ...        ...       ...        ...  \n",
       "558830       22800.0      Tuesday       2015       July         7          6  \n",
       "558832       30800.0    Wednesday       2015       July         8          9  \n",
       "558833       34000.0    Wednesday       2015       July         8          9  \n",
       "558834       11100.0     Thursday       2015       July         9          6  \n",
       "558835       26700.0     Thursday       2015        May        28          5  \n",
       "\n",
       "[471975 rows x 20 columns]"
      ]
     },
     "execution_count": 21,
     "metadata": {},
     "output_type": "execute_result"
    }
   ],
   "source": [
    "carprice_2"
   ]
  },
  {
   "cell_type": "code",
   "execution_count": 52,
   "id": "92130c82",
   "metadata": {},
   "outputs": [],
   "source": [
    "#Selling price are right skewed, with out log of the selling price, model will have very large RMSE value\n",
    "\n",
    "import numpy as np\n",
    "carprice_Norm=carprice_2[['mmr','condition','sellingprice','odometer','sale_time','sale_day','year','sale_year']].apply(lambda x: np.log(x+1))"
   ]
  },
  {
   "cell_type": "code",
   "execution_count": 53,
   "id": "a02833c2",
   "metadata": {},
   "outputs": [
    {
     "data": {
      "image/png": "[encoded data removed]",
      "text/plain": [
       "<Figure size 288x360 with 1 Axes>"
      ]
     },
     "metadata": {
      "needs_background": "light"
     },
     "output_type": "display_data"
    },
    {
     "data": {
      "image/png": "[encoded data removed]",
      "text/plain": [
       "<Figure size 288x360 with 1 Axes>"
      ]
     },
     "metadata": {
      "needs_background": "light"
     },
     "output_type": "display_data"
    },
    {
     "data": {
      "image/png": "[encoded data removed]",
      "text/plain": [
       "<Figure size 288x360 with 1 Axes>"
      ]
     },
     "metadata": {
      "needs_background": "light"
     },
     "output_type": "display_data"
    },
    {
     "data": {
      "image/png": "[encoded data removed]",
      "text/plain": [
       "<Figure size 288x360 with 1 Axes>"
      ]
     },
     "metadata": {
      "needs_background": "light"
     },
     "output_type": "display_data"
    },
    {
     "data": {
      "image/png": "[encoded data removed]",
      "text/plain": [
       "<Figure size 288x360 with 1 Axes>"
      ]
     },
     "metadata": {
      "needs_background": "light"
     },
     "output_type": "display_data"
    }
   ],
   "source": [
    "carprice_Norm[[\"year\"]].hist(bins=100, figsize=(4,5))\n",
    "carprice_Norm[[\"mmr\"]].hist(bins=100, figsize=(4,5))\n",
    "carprice_Norm[[\"odometer\"]].hist(bins=100, figsize=(4,5))\n",
    "carprice_Norm[[\"sellingprice\"]].hist(bins=100, figsize=(4,5))\n",
    "carprice_Norm[[\"condition\"]].hist(bins=100, figsize=(4,5))\n",
    "plt.show()"
   ]
  },
  {
   "cell_type": "code",
   "execution_count": 27,
   "id": "fb5a0f43",
   "metadata": {},
   "outputs": [
    {
     "data": {
      "text/html": [
       "<div>\n",
       "<style scoped>\n",
       "    .dataframe tbody tr th:only-of-type {\n",
       "        vertical-align: middle;\n",
       "    }\n",
       "\n",
       "    .dataframe tbody tr th {\n",
       "        vertical-align: top;\n",
       "    }\n",
       "\n",
       "    .dataframe thead th {\n",
       "        text-align: right;\n",
       "    }\n",
       "</style>\n",
       "<table border=\"1\" class=\"dataframe\">\n",
       "  <thead>\n",
       "    <tr style=\"text-align: right;\">\n",
       "      <th></th>\n",
       "      <th>year</th>\n",
       "      <th>condition</th>\n",
       "      <th>odometer</th>\n",
       "      <th>mmr</th>\n",
       "    </tr>\n",
       "  </thead>\n",
       "  <tbody>\n",
       "    <tr>\n",
       "      <th>count</th>\n",
       "      <td>471975.000000</td>\n",
       "      <td>471975.000000</td>\n",
       "      <td>471975.000000</td>\n",
       "      <td>471975.000000</td>\n",
       "    </tr>\n",
       "    <tr>\n",
       "      <th>mean</th>\n",
       "      <td>7.605995</td>\n",
       "      <td>1.186598</td>\n",
       "      <td>10.758991</td>\n",
       "      <td>9.266961</td>\n",
       "    </tr>\n",
       "    <tr>\n",
       "      <th>std</th>\n",
       "      <td>0.001903</td>\n",
       "      <td>0.316543</td>\n",
       "      <td>1.028696</td>\n",
       "      <td>0.830398</td>\n",
       "    </tr>\n",
       "    <tr>\n",
       "      <th>min</th>\n",
       "      <td>7.595890</td>\n",
       "      <td>0.000000</td>\n",
       "      <td>0.000000</td>\n",
       "      <td>3.218876</td>\n",
       "    </tr>\n",
       "    <tr>\n",
       "      <th>25%</th>\n",
       "      <td>7.604894</td>\n",
       "      <td>0.993252</td>\n",
       "      <td>10.244343</td>\n",
       "      <td>8.915969</td>\n",
       "    </tr>\n",
       "    <tr>\n",
       "      <th>50%</th>\n",
       "      <td>7.606885</td>\n",
       "      <td>1.280934</td>\n",
       "      <td>10.840345</td>\n",
       "      <td>9.421411</td>\n",
       "    </tr>\n",
       "    <tr>\n",
       "      <th>75%</th>\n",
       "      <td>7.607381</td>\n",
       "      <td>1.435085</td>\n",
       "      <td>11.477676</td>\n",
       "      <td>9.814656</td>\n",
       "    </tr>\n",
       "    <tr>\n",
       "      <th>max</th>\n",
       "      <td>7.608374</td>\n",
       "      <td>1.609438</td>\n",
       "      <td>13.815510</td>\n",
       "      <td>12.111762</td>\n",
       "    </tr>\n",
       "  </tbody>\n",
       "</table>\n",
       "</div>"
      ],
      "text/plain": [
       "                year      condition       odometer            mmr\n",
       "count  471975.000000  471975.000000  471975.000000  471975.000000\n",
       "mean        7.605995       1.186598      10.758991       9.266961\n",
       "std         0.001903       0.316543       1.028696       0.830398\n",
       "min         7.595890       0.000000       0.000000       3.218876\n",
       "25%         7.604894       0.993252      10.244343       8.915969\n",
       "50%         7.606885       1.280934      10.840345       9.421411\n",
       "75%         7.607381       1.435085      11.477676       9.814656\n",
       "max         7.608374       1.609438      13.815510      12.111762"
      ]
     },
     "execution_count": 27,
     "metadata": {},
     "output_type": "execute_result"
    }
   ],
   "source": [
    "xlist = [\"year\", \"condition\", \"odometer\", \"mmr\"]\n",
    "X = carprice_Norm[xlist]\n",
    "y = carprice_Norm[\"sellingprice\"]\n",
    "carprice_Norm[xlist].describe()"
   ]
  },
  {
   "cell_type": "markdown",
   "id": "0c6730ee",
   "metadata": {},
   "source": [
    "### 3.1Divide the dataset into train and test sets"
   ]
  },
  {
   "cell_type": "code",
   "execution_count": 28,
   "id": "34039802",
   "metadata": {},
   "outputs": [],
   "source": [
    "#Divide the dataset into 7/3 for training and testing dataset, set the random_state = 6 because we are group 6\n",
    "\n",
    "X_train, X_test, y_train, y_test = train_test_split(X, y, test_size = 0.3, random_state = 6)\n",
    "#x_train.head()"
   ]
  },
  {
   "cell_type": "code",
   "execution_count": 29,
   "id": "fda857b8",
   "metadata": {},
   "outputs": [
    {
     "data": {
      "text/html": [
       "<div>\n",
       "<style scoped>\n",
       "    .dataframe tbody tr th:only-of-type {\n",
       "        vertical-align: middle;\n",
       "    }\n",
       "\n",
       "    .dataframe tbody tr th {\n",
       "        vertical-align: top;\n",
       "    }\n",
       "\n",
       "    .dataframe thead th {\n",
       "        text-align: right;\n",
       "    }\n",
       "</style>\n",
       "<table border=\"1\" class=\"dataframe\">\n",
       "  <thead>\n",
       "    <tr style=\"text-align: right;\">\n",
       "      <th></th>\n",
       "      <th>year</th>\n",
       "      <th>condition</th>\n",
       "      <th>odometer</th>\n",
       "      <th>mmr</th>\n",
       "    </tr>\n",
       "  </thead>\n",
       "  <tbody>\n",
       "    <tr>\n",
       "      <th>60717</th>\n",
       "      <td>7.607878</td>\n",
       "      <td>1.098612</td>\n",
       "      <td>9.573455</td>\n",
       "      <td>10.485703</td>\n",
       "    </tr>\n",
       "    <tr>\n",
       "      <th>277799</th>\n",
       "      <td>7.606885</td>\n",
       "      <td>1.410987</td>\n",
       "      <td>10.287593</td>\n",
       "      <td>9.525151</td>\n",
       "    </tr>\n",
       "    <tr>\n",
       "      <th>72019</th>\n",
       "      <td>7.603898</td>\n",
       "      <td>0.693147</td>\n",
       "      <td>11.715156</td>\n",
       "      <td>9.277999</td>\n",
       "    </tr>\n",
       "    <tr>\n",
       "      <th>42938</th>\n",
       "      <td>7.606885</td>\n",
       "      <td>1.064711</td>\n",
       "      <td>10.697927</td>\n",
       "      <td>9.588777</td>\n",
       "    </tr>\n",
       "    <tr>\n",
       "      <th>3969</th>\n",
       "      <td>7.603898</td>\n",
       "      <td>1.193922</td>\n",
       "      <td>11.083741</td>\n",
       "      <td>8.411833</td>\n",
       "    </tr>\n",
       "  </tbody>\n",
       "</table>\n",
       "</div>"
      ],
      "text/plain": [
       "            year  condition   odometer        mmr\n",
       "60717   7.607878   1.098612   9.573455  10.485703\n",
       "277799  7.606885   1.410987  10.287593   9.525151\n",
       "72019   7.603898   0.693147  11.715156   9.277999\n",
       "42938   7.606885   1.064711  10.697927   9.588777\n",
       "3969    7.603898   1.193922  11.083741   8.411833"
      ]
     },
     "execution_count": 29,
     "metadata": {},
     "output_type": "execute_result"
    }
   ],
   "source": [
    "X_train.head()"
   ]
  },
  {
   "cell_type": "markdown",
   "id": "5bd90b92",
   "metadata": {},
   "source": [
    "## 4.Linear regression model"
   ]
  },
  {
   "cell_type": "code",
   "execution_count": 30,
   "id": "a706e0b2",
   "metadata": {},
   "outputs": [],
   "source": [
    "from sklearn.linear_model import LinearRegression\n",
    "carreg = LinearRegression()\n",
    "carreg.fit(X_train, y_train)\n",
    "carprice_3=carprice_2\n",
    "# create a new column for the predicted car selling price\n",
    "carprice_3[\"predict\"] = carreg.predict(X)"
   ]
  },
  {
   "cell_type": "code",
   "execution_count": 33,
   "id": "a41c790b",
   "metadata": {},
   "outputs": [
    {
     "name": "stdout",
     "output_type": "stream",
     "text": [
      "                                 OLS Regression Results                                \n",
      "=======================================================================================\n",
      "Dep. Variable:           sellingprice   R-squared (uncentered):                   0.999\n",
      "Model:                            OLS   Adj. R-squared (uncentered):              0.999\n",
      "Method:                 Least Squares   F-statistic:                          1.459e+08\n",
      "Date:                Mon, 29 Aug 2022   Prob (F-statistic):                        0.00\n",
      "Time:                        17:11:50   Log-Likelihood:                          30564.\n",
      "No. Observations:              330382   AIC:                                 -6.112e+04\n",
      "Df Residuals:                  330378   BIC:                                 -6.108e+04\n",
      "Df Model:                           4                                                  \n",
      "Covariance Type:            nonrobust                                                  \n",
      "==============================================================================\n",
      "                 coef    std err          t      P>|t|      [0.025      0.975]\n",
      "------------------------------------------------------------------------------\n",
      "year          -0.1160      0.001   -100.283      0.000      -0.118      -0.114\n",
      "condition      0.4149      0.001    282.278      0.000       0.412       0.418\n",
      "odometer       0.0526      0.000    116.737      0.000       0.052       0.053\n",
      "mmr            0.9771      0.001   1576.651      0.000       0.976       0.978\n",
      "==============================================================================\n",
      "Omnibus:                   180955.904   Durbin-Watson:                   2.004\n",
      "Prob(Omnibus):                  0.000   Jarque-Bera (JB):         19408733.694\n",
      "Skew:                          -1.705   Prob(JB):                         0.00\n",
      "Kurtosis:                      40.394   Cond. No.                         63.6\n",
      "==============================================================================\n",
      "\n",
      "Notes:\n",
      "[1] R² is computed without centering (uncentered) since the model does not contain a constant.\n",
      "[2] Standard Errors assume that the covariance matrix of the errors is correctly specified.\n"
     ]
    }
   ],
   "source": [
    "import statsmodels.api as sm\n",
    "import statsmodels.regression.linear_model as smf\n",
    "results = smf.OLS(y_train,X_train).fit()\n",
    "print(results.summary())"
   ]
  },
  {
   "cell_type": "code",
   "execution_count": 34,
   "id": "89822d96",
   "metadata": {
    "scrolled": true
   },
   "outputs": [
    {
     "name": "stdout",
     "output_type": "stream",
     "text": [
      "Liner Regression RMSE: 0.2203\n"
     ]
    }
   ],
   "source": [
    "# Model Evaluation2: Calculate Root Mean Square Error (RMSE)\n",
    "y_pred = carreg.predict(X_test)\n",
    "reg_mse = mean_squared_error(y_pred, y_test)\n",
    "reg_rmse = np.sqrt(reg_mse)\n",
    "print('Liner Regression RMSE: %.4f' % reg_rmse)"
   ]
  },
  {
   "cell_type": "code",
   "execution_count": 35,
   "id": "fa1bb6ae",
   "metadata": {},
   "outputs": [
    {
     "name": "stdout",
     "output_type": "stream",
     "text": [
      "Liner Regression MAE: 0.1270\n"
     ]
    }
   ],
   "source": [
    "# Model Evaluation3: Calculate mean absolute error (MAE)\n",
    "lin_mae = mean_absolute_error(y_pred, y_test)\n",
    "print('Liner Regression MAE: %.4f' % lin_mae)"
   ]
  },
  {
   "cell_type": "code",
   "execution_count": 36,
   "id": "09fd2b44",
   "metadata": {},
   "outputs": [
    {
     "name": "stdout",
     "output_type": "stream",
     "text": [
      "R-squared 0.9384047618979845\n"
     ]
    }
   ],
   "source": [
    "from sklearn.metrics import r2_score\n",
    "print(\"R-squared\", r2_score(y_test, y_pred))"
   ]
  },
  {
   "cell_type": "markdown",
   "id": "262a61ed",
   "metadata": {},
   "source": [
    "## 5.Decision tree model"
   ]
  },
  {
   "cell_type": "code",
   "execution_count": 38,
   "id": "33a3b2f2",
   "metadata": {},
   "outputs": [],
   "source": [
    "carregrtree = DecisionTreeRegressor(max_depth = 3)\n",
    "carregrtree.fit(X_train, y_train)\n",
    "\n",
    "carprice_3[\"tree_predict\"] = carregrtree.predict(X)"
   ]
  },
  {
   "cell_type": "code",
   "execution_count": 39,
   "id": "622f31e0",
   "metadata": {},
   "outputs": [
    {
     "name": "stdout",
     "output_type": "stream",
     "text": [
      "Decision Tree RMSE: 0.2836\n"
     ]
    }
   ],
   "source": [
    "y_pred_tree = carregrtree.predict(X_test)\n",
    "tree_mse = mean_squared_error(y_pred_tree, y_test)\n",
    "tree_rmse = np.sqrt(tree_mse)\n",
    "print('Decision Tree RMSE: %.4f' % tree_rmse)"
   ]
  },
  {
   "cell_type": "code",
   "execution_count": 40,
   "id": "ec44503d",
   "metadata": {},
   "outputs": [
    {
     "name": "stdout",
     "output_type": "stream",
     "text": [
      "Decision Tree MAE: 0.1907\n"
     ]
    }
   ],
   "source": [
    "# Model Evaluation3: Calculate mean absolute error (MAE)\n",
    "tree_mae = mean_absolute_error(y_pred_tree, y_test)\n",
    "print('Decision Tree MAE: %.4f' % tree_mae)"
   ]
  },
  {
   "cell_type": "code",
   "execution_count": 41,
   "id": "5734b95a",
   "metadata": {},
   "outputs": [
    {
     "name": "stdout",
     "output_type": "stream",
     "text": [
      "R-squared 0.8978982172414692\n"
     ]
    }
   ],
   "source": [
    "print(\"R-squared\", r2_score(y_test, y_pred_tree))"
   ]
  },
  {
   "cell_type": "markdown",
   "id": "fcdbcf16",
   "metadata": {},
   "source": []
  },
  {
   "cell_type": "code",
   "execution_count": 42,
   "id": "5dd8a949",
   "metadata": {},
   "outputs": [
    {
     "data": {
      "image/png": "[encoded data removed]",
      "text/plain": [
       "<Figure size 1224x576 with 1 Axes>"
      ]
     },
     "metadata": {
      "needs_background": "light"
     },
     "output_type": "display_data"
    }
   ],
   "source": [
    "plt.figure(figsize=(17, 8))\n",
    "tree.plot_tree(carregrtree, feature_names=xlist, filled=True)\n",
    "plt.show()"
   ]
  },
  {
   "cell_type": "markdown",
   "id": "efd2a8c1",
   "metadata": {},
   "source": [
    "## 6.Random forest model"
   ]
  },
  {
   "cell_type": "code",
   "execution_count": 43,
   "id": "eb5f3fbb",
   "metadata": {},
   "outputs": [
    {
     "name": "stdout",
     "output_type": "stream",
     "text": [
      "Random Forest RMSE: 0.2138\n",
      "Random Forest MAE: 0.1219\n"
     ]
    }
   ],
   "source": [
    "from sklearn.ensemble import RandomForestRegressor\n",
    "forest_reg = RandomForestRegressor(random_state=6)\n",
    "forest_reg.fit(X_train, y_train)\n",
    "\n",
    "y_pred_forest = forest_reg.predict(X_test)\n",
    "forest_mse = mean_squared_error(y_pred_forest, y_test)\n",
    "forest_rmse = np.sqrt(forest_mse)\n",
    "print('Random Forest RMSE: %.4f' % forest_rmse)\n",
    "\n",
    "forest_mae = mean_absolute_error(y_pred_forest, y_test)\n",
    "print('Random Forest MAE: %.4f' % forest_mae)\n"
   ]
  },
  {
   "cell_type": "code",
   "execution_count": 44,
   "id": "0fdebd65",
   "metadata": {},
   "outputs": [
    {
     "name": "stdout",
     "output_type": "stream",
     "text": [
      "R-squared 0.9419609830687115\n"
     ]
    }
   ],
   "source": [
    "print(\"R-squared\", r2_score(y_test, y_pred_forest))"
   ]
  },
  {
   "cell_type": "markdown",
   "id": "0afcebcc",
   "metadata": {},
   "source": [
    "## 7.Neural network model"
   ]
  },
  {
   "cell_type": "code",
   "execution_count": 45,
   "id": "8c9f0b17",
   "metadata": {},
   "outputs": [],
   "source": [
    "# To improve the neural network performance, normalize the input variables\n",
    "\n",
    "from sklearn.preprocessing import StandardScaler\n",
    "scaler = StandardScaler()\n",
    "scaler.fit(X_train)\n",
    "X_train_nn = scaler.transform(X_train)\n",
    "X_test_nn = scaler.transform(X_test)"
   ]
  },
  {
   "cell_type": "code",
   "execution_count": 47,
   "id": "316b5498",
   "metadata": {},
   "outputs": [
    {
     "name": "stderr",
     "output_type": "stream",
     "text": [
      "C:\\Users\\ZHANGL6\\AppData\\Local\\Packages\\PythonSoftwareFoundation.Python.3.8_qbz5n2kfra8p0\\LocalCache\\local-packages\\Python38\\site-packages\\sklearn\\base.py:443: UserWarning: X has feature names, but MLPRegressor was fitted without feature names\n",
      "  warnings.warn(\n"
     ]
    }
   ],
   "source": [
    "from sklearn.neural_network import MLPRegressor\n",
    "mlp = MLPRegressor(hidden_layer_sizes=(30,30,30), max_iter=2000)\n",
    "mlp.fit(X_train_nn,y_train)\n",
    "\n",
    "carprice_3[\"mlp_predict\"] = mlp.predict(X)"
   ]
  },
  {
   "cell_type": "code",
   "execution_count": 48,
   "id": "50ffe59c",
   "metadata": {},
   "outputs": [
    {
     "name": "stdout",
     "output_type": "stream",
     "text": [
      "Neural Network RMSE: 0.2024\n"
     ]
    }
   ],
   "source": [
    "y_pred_mlp = mlp.predict(X_test_nn)\n",
    "mlp_mse = mean_squared_error(y_pred_mlp, y_test)\n",
    "mlp_rmse = np.sqrt(mlp_mse)\n",
    "print('Neural Network RMSE: %.4f' % mlp_rmse)"
   ]
  },
  {
   "cell_type": "code",
   "execution_count": 49,
   "id": "ef3eabf7",
   "metadata": {},
   "outputs": [
    {
     "name": "stdout",
     "output_type": "stream",
     "text": [
      "Neural Network MAE: 0.1130\n"
     ]
    }
   ],
   "source": [
    "# Model Evaluation3: Calculate mean absolute error (MAE)\n",
    "mlp_mae = mean_absolute_error(y_pred_mlp, y_test)\n",
    "print('Neural Network MAE: %.4f' % mlp_mae)"
   ]
  },
  {
   "cell_type": "code",
   "execution_count": 50,
   "id": "9d9b63d2",
   "metadata": {},
   "outputs": [
    {
     "name": "stdout",
     "output_type": "stream",
     "text": [
      "R-squared 0.9479908824901712\n"
     ]
    }
   ],
   "source": [
    "print(\"R-squared\", r2_score(y_test, y_pred_mlp))"
   ]
  },
  {
   "cell_type": "markdown",
   "id": "0f28ef3b",
   "metadata": {},
   "source": [
    "## 8.Words Cloud"
   ]
  },
  {
   "cell_type": "code",
   "execution_count": null,
   "id": "79979932",
   "metadata": {},
   "outputs": [],
   "source": [
    "import numpy as np\n",
    "import pandas as pd\n",
    "from os import path\n",
    "from PIL import Image\n",
    "from wordcloud import WordCloud, STOPWORDS, ImageColorGenerator\n",
    "\n",
    "import matplotlib.pyplot as plt\n",
    "%matplotlib inline\n"
   ]
  },
  {
   "cell_type": "code",
   "execution_count": null,
   "id": "bd43a5c9",
   "metadata": {},
   "outputs": [],
   "source": [
    "df = pd.read_csv(\"data/car_prices.csv\", na_values=\"?\").dropna()\n",
    "df.head()"
   ]
  },
  {
   "cell_type": "markdown",
   "id": "ee27624d",
   "metadata": {},
   "source": [
    "# Not WORKING, PLEASE CHECK FILE FOR DETAILS !!!!!!!!!!!!!!!!!!!!!"
   ]
  },
  {
   "cell_type": "code",
   "execution_count": null,
   "id": "1040dc8a",
   "metadata": {},
   "outputs": [],
   "source": [
    "print(\"There are {} observations and {} features in this dataset. \\n\".format(df.shape[0],df.shape[1]))\n",
    "\n",
    "print(\"There are {} Brands of car in this dataset such as {}... \\n\".format(len(df.make.unique()),\n",
    "                                                                           \", \".join(df.make.unique()[0:5])))\n",
    "\n",
    "print(\"There are {} model in this dataset such as {}... \\n\".format(len(df.model.unique()),\n",
    "                                                                                      \", \".join(df.model.unique()[0:5])))"
   ]
  },
  {
   "cell_type": "code",
   "execution_count": null,
   "id": "2c575776",
   "metadata": {},
   "outputs": [],
   "source": []
  },
  {
   "cell_type": "code",
   "execution_count": null,
   "id": "223d7f37",
   "metadata": {},
   "outputs": [],
   "source": []
  },
  {
   "cell_type": "code",
   "execution_count": null,
   "id": "7d5018bb",
   "metadata": {},
   "outputs": [],
   "source": []
  },
  {
   "cell_type": "code",
   "execution_count": null,
   "id": "acec76d9",
   "metadata": {},
   "outputs": [],
   "source": []
  }
 ],
 "metadata": {
  "kernelspec": {
   "display_name": "Python 3.8.10 64-bit (windows store)",
   "language": "python",
   "name": "python3"
  },
  "language_info": {
   "codemirror_mode": {
    "name": "ipython",
    "version": 3
   },
   "file_extension": ".py",
   "mimetype": "text/x-python",
   "name": "python",
   "nbconvert_exporter": "python",
   "pygments_lexer": "ipython3",
   "version": "3.8.10"
  },
  "vscode": {
   "interpreter": {
    "hash": "0004ce0e46db0d6657eaa514c069393014afd799b0b67418721c703f1b8d8268"
   }
  }
 },
 "nbformat": 4,
 "nbformat_minor": 5
}
